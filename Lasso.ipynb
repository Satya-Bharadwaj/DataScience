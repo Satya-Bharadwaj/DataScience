{
  "nbformat": 4,
  "nbformat_minor": 0,
  "metadata": {
    "colab": {
      "provenance": []
    },
    "kernelspec": {
      "name": "python3",
      "display_name": "Python 3"
    },
    "language_info": {
      "name": "python"
    }
  },
  "cells": [
    {
      "cell_type": "code",
      "execution_count": 93,
      "metadata": {
        "id": "13LZv9Ixa1re"
      },
      "outputs": [],
      "source": [
        "#import statements\n",
        "import os\n",
        "import pandas as pd\n",
        "import numpy as np\n",
        "import matplotlib.pyplot as plt\n",
        "from sklearn.model_selection import train_test_split\n"
      ]
    },
    {
      "cell_type": "code",
      "source": [
        "#load data\n",
        "from google.colab import drive\n",
        "base_path = '/content/drive'\n",
        "drive.mount(base_path)\n",
        "\n",
        "data_path = os.path.join(base_path, 'My Drive/MSIT423/HW2')\n",
        "data = pd.read_csv(os.path.join(data_path, 'test_sample.csv'))"
      ],
      "metadata": {
        "colab": {
          "base_uri": "https://localhost:8080/"
        },
        "id": "dek7wn15eP5A",
        "outputId": "3eae1cb5-d460-492b-8f0d-98eb28d51f7d"
      },
      "execution_count": 94,
      "outputs": [
        {
          "output_type": "stream",
          "name": "stdout",
          "text": [
            "Drive already mounted at /content/drive; to attempt to forcibly remount, call drive.mount(\"/content/drive\", force_remount=True).\n"
          ]
        }
      ]
    },
    {
      "cell_type": "code",
      "source": [
        "#data variables\n",
        "import statsmodels.api as sm\n",
        "\n",
        "y = data['Y']\n",
        "X = data.drop(columns=['Y'])"
      ],
      "metadata": {
        "id": "sQqZkGFrYkeA"
      },
      "execution_count": 95,
      "outputs": []
    },
    {
      "cell_type": "code",
      "source": [
        "#LassoCV\n",
        "from sklearn.linear_model import LassoCV, Lasso\n",
        "\n",
        "dataCV = LassoCV(cv = 5, random_state = 1)\n",
        "dataCV.fit(X,y)"
      ],
      "metadata": {
        "colab": {
          "base_uri": "https://localhost:8080/",
          "height": 74
        },
        "id": "5mvGfuIFew_0",
        "outputId": "a84425e8-45ee-45f6-ba5f-45f7acaf006a"
      },
      "execution_count": 96,
      "outputs": [
        {
          "output_type": "execute_result",
          "data": {
            "text/plain": [
              "LassoCV(cv=5, random_state=1)"
            ],
            "text/html": [
              "<style>#sk-container-id-5 {color: black;background-color: white;}#sk-container-id-5 pre{padding: 0;}#sk-container-id-5 div.sk-toggleable {background-color: white;}#sk-container-id-5 label.sk-toggleable__label {cursor: pointer;display: block;width: 100%;margin-bottom: 0;padding: 0.3em;box-sizing: border-box;text-align: center;}#sk-container-id-5 label.sk-toggleable__label-arrow:before {content: \"▸\";float: left;margin-right: 0.25em;color: #696969;}#sk-container-id-5 label.sk-toggleable__label-arrow:hover:before {color: black;}#sk-container-id-5 div.sk-estimator:hover label.sk-toggleable__label-arrow:before {color: black;}#sk-container-id-5 div.sk-toggleable__content {max-height: 0;max-width: 0;overflow: hidden;text-align: left;background-color: #f0f8ff;}#sk-container-id-5 div.sk-toggleable__content pre {margin: 0.2em;color: black;border-radius: 0.25em;background-color: #f0f8ff;}#sk-container-id-5 input.sk-toggleable__control:checked~div.sk-toggleable__content {max-height: 200px;max-width: 100%;overflow: auto;}#sk-container-id-5 input.sk-toggleable__control:checked~label.sk-toggleable__label-arrow:before {content: \"▾\";}#sk-container-id-5 div.sk-estimator input.sk-toggleable__control:checked~label.sk-toggleable__label {background-color: #d4ebff;}#sk-container-id-5 div.sk-label input.sk-toggleable__control:checked~label.sk-toggleable__label {background-color: #d4ebff;}#sk-container-id-5 input.sk-hidden--visually {border: 0;clip: rect(1px 1px 1px 1px);clip: rect(1px, 1px, 1px, 1px);height: 1px;margin: -1px;overflow: hidden;padding: 0;position: absolute;width: 1px;}#sk-container-id-5 div.sk-estimator {font-family: monospace;background-color: #f0f8ff;border: 1px dotted black;border-radius: 0.25em;box-sizing: border-box;margin-bottom: 0.5em;}#sk-container-id-5 div.sk-estimator:hover {background-color: #d4ebff;}#sk-container-id-5 div.sk-parallel-item::after {content: \"\";width: 100%;border-bottom: 1px solid gray;flex-grow: 1;}#sk-container-id-5 div.sk-label:hover label.sk-toggleable__label {background-color: #d4ebff;}#sk-container-id-5 div.sk-serial::before {content: \"\";position: absolute;border-left: 1px solid gray;box-sizing: border-box;top: 0;bottom: 0;left: 50%;z-index: 0;}#sk-container-id-5 div.sk-serial {display: flex;flex-direction: column;align-items: center;background-color: white;padding-right: 0.2em;padding-left: 0.2em;position: relative;}#sk-container-id-5 div.sk-item {position: relative;z-index: 1;}#sk-container-id-5 div.sk-parallel {display: flex;align-items: stretch;justify-content: center;background-color: white;position: relative;}#sk-container-id-5 div.sk-item::before, #sk-container-id-5 div.sk-parallel-item::before {content: \"\";position: absolute;border-left: 1px solid gray;box-sizing: border-box;top: 0;bottom: 0;left: 50%;z-index: -1;}#sk-container-id-5 div.sk-parallel-item {display: flex;flex-direction: column;z-index: 1;position: relative;background-color: white;}#sk-container-id-5 div.sk-parallel-item:first-child::after {align-self: flex-end;width: 50%;}#sk-container-id-5 div.sk-parallel-item:last-child::after {align-self: flex-start;width: 50%;}#sk-container-id-5 div.sk-parallel-item:only-child::after {width: 0;}#sk-container-id-5 div.sk-dashed-wrapped {border: 1px dashed gray;margin: 0 0.4em 0.5em 0.4em;box-sizing: border-box;padding-bottom: 0.4em;background-color: white;}#sk-container-id-5 div.sk-label label {font-family: monospace;font-weight: bold;display: inline-block;line-height: 1.2em;}#sk-container-id-5 div.sk-label-container {text-align: center;}#sk-container-id-5 div.sk-container {/* jupyter's `normalize.less` sets `[hidden] { display: none; }` but bootstrap.min.css set `[hidden] { display: none !important; }` so we also need the `!important` here to be able to override the default hidden behavior on the sphinx rendered scikit-learn.org. See: https://github.com/scikit-learn/scikit-learn/issues/21755 */display: inline-block !important;position: relative;}#sk-container-id-5 div.sk-text-repr-fallback {display: none;}</style><div id=\"sk-container-id-5\" class=\"sk-top-container\"><div class=\"sk-text-repr-fallback\"><pre>LassoCV(cv=5, random_state=1)</pre><b>In a Jupyter environment, please rerun this cell to show the HTML representation or trust the notebook. <br />On GitHub, the HTML representation is unable to render, please try loading this page with nbviewer.org.</b></div><div class=\"sk-container\" hidden><div class=\"sk-item\"><div class=\"sk-estimator sk-toggleable\"><input class=\"sk-toggleable__control sk-hidden--visually\" id=\"sk-estimator-id-5\" type=\"checkbox\" checked><label for=\"sk-estimator-id-5\" class=\"sk-toggleable__label sk-toggleable__label-arrow\">LassoCV</label><div class=\"sk-toggleable__content\"><pre>LassoCV(cv=5, random_state=1)</pre></div></div></div></div></div>"
            ]
          },
          "metadata": {},
          "execution_count": 96
        }
      ]
    },
    {
      "cell_type": "code",
      "source": [
        "#Find alpha min\n",
        "alpha_min = dataCV.alpha_\n",
        "print(\"Minumum value of alpha:\",alpha_min)"
      ],
      "metadata": {
        "colab": {
          "base_uri": "https://localhost:8080/"
        },
        "id": "vgi9vzvclXTc",
        "outputId": "1f738352-a5bc-47ea-ddc8-3569eb1353b9"
      },
      "execution_count": 97,
      "outputs": [
        {
          "output_type": "stream",
          "name": "stdout",
          "text": [
            "Minumum value of alpha: 0.02254498784830359\n"
          ]
        }
      ]
    },
    {
      "cell_type": "code",
      "source": [
        "#perform Lasso regression with alpha min\n",
        "out = Lasso(alpha = alpha_min)\n",
        "out.fit(X,y)\n",
        "#Lasso coefficients\n",
        "coefs = []\n",
        "coefs.append(out.coef_)\n",
        "\n",
        "print(coefs)\n"
      ],
      "metadata": {
        "id": "b4_xFZRCpD1C",
        "colab": {
          "base_uri": "https://localhost:8080/"
        },
        "outputId": "d3cf373b-a701-453e-bdd4-23d36ad7dc00"
      },
      "execution_count": 98,
      "outputs": [
        {
          "output_type": "stream",
          "name": "stdout",
          "text": [
            "[array([ 0.3232505 ,  0.06514291,  0.93755632,  1.77769313,  1.60135005,\n",
            "        1.64461727,  0.43140523,  0.69371001,  0.68779346, -0.30128354,\n",
            "        0.73133113,  1.28702775,  1.94227808,  0.25461544, -0.        ,\n",
            "        0.60144734,  0.        ,  0.56256473,  1.05038199, -0.1978556 ,\n",
            "        0.26109394,  1.65463375,  1.03795023,  0.        , -0.        ,\n",
            "        0.34565252, -0.27292081,  0.35023263,  0.16468148,  0.050648  ,\n",
            "        1.33616095,  0.78629906,  1.45429848,  1.96672885,  0.64914336,\n",
            "        0.        ,  0.08995946,  0.        ,  0.        ,  1.18073048,\n",
            "        1.62543657,  1.3427794 ,  0.64827448,  1.2378209 ,  0.70376365,\n",
            "        0.        ,  1.27581755,  0.17790316,  0.52092194,  0.11585651,\n",
            "        0.53150699,  1.18127752,  1.45974461,  0.38442721,  1.01697514,\n",
            "        2.01952477,  0.00471534,  1.02513939, -0.15884916,  0.        ,\n",
            "       -0.        ,  0.99909072,  0.55872652, -0.04972536,  0.39556417,\n",
            "        1.24229161,  1.46845048,  1.40665332,  2.13943634,  0.86977988,\n",
            "        1.62218014,  0.94552112,  0.33480646,  1.64991481,  0.98826063,\n",
            "        1.3800668 ,  1.27590385,  1.46597668,  0.20837108,  0.03973685,\n",
            "        1.30058061,  0.83134685,  1.11208191,  1.11450175,  1.77704217,\n",
            "        0.42027254,  0.        ,  0.17697409,  0.28730239,  0.05032238,\n",
            "        0.6064281 ,  1.56575783,  1.43860573,  0.15157886,  1.69022262,\n",
            "        1.48437582,  1.46457936,  1.34140582,  1.47345255,  1.9307989 ,\n",
            "        0.54547117,  0.47726198,  0.33072487,  1.79917673,  0.57183231,\n",
            "        0.98486916, -0.        ,  1.60555856,  0.68282435,  0.42550503,\n",
            "        1.60407998,  1.10789321,  1.40564853,  0.47376608,  0.77265707,\n",
            "        1.99625254,  0.25143863,  0.        ,  0.        ,  1.13217707,\n",
            "        0.91086694,  1.51096159,  0.58158015,  0.83264917,  0.96234404,\n",
            "        1.33658995,  0.76007659,  0.69478093, -0.        , -0.        ,\n",
            "        0.19350545,  0.21789363,  1.1612316 ,  0.92014002,  1.00801946,\n",
            "       -0.14904884,  1.38761354,  0.5137463 ,  0.10370232,  1.0010477 ,\n",
            "        1.62768826,  1.61988064,  1.19192129,  0.51903112,  0.60115942,\n",
            "        0.87546079,  0.41091702,  0.02762011,  0.49277361,  0.75148886,\n",
            "        0.25880961,  0.53616812,  0.48186643,  1.81644856,  0.0323731 ,\n",
            "        0.47914324,  0.66626133,  0.83967534,  1.64935093,  1.42176037,\n",
            "        0.68420091,  0.06988606,  1.60779667,  1.5889192 ,  0.31166757,\n",
            "        1.16051602,  0.77775749,  0.35622138,  1.46871436, -0.20620512,\n",
            "        1.12723249,  0.38650901,  1.02872872,  1.70662844,  1.51571648,\n",
            "        1.31202077,  0.82575155,  1.07751144,  0.39112362,  1.55294462,\n",
            "        0.79633582,  0.63555214,  0.37702581,  1.42877616,  0.84710705,\n",
            "        0.5391996 ,  1.00690583,  1.01869952,  0.01185399,  1.84835738,\n",
            "        1.66327202, -0.00926046, -0.23283696,  0.30265588,  0.76304699,\n",
            "        1.31709703,  0.65148213,  1.44506326,  1.01104974,  1.51984672,\n",
            "        0.1395148 ,  0.31819136,  1.14238361,  0.28962685,  0.68989108,\n",
            "        0.0687985 ,  1.66299709,  0.15597025,  0.36691359,  0.4567497 ,\n",
            "        0.51265216,  0.78772511,  1.50533671,  0.31236428,  1.33578742,\n",
            "        0.91991683,  0.71177898,  0.15669817,  0.91505022,  1.12107402,\n",
            "        0.37174597,  1.9818469 ,  1.45724475,  1.92570938,  0.03343703,\n",
            "        1.32948932,  0.12630358,  0.30482561, -0.00674466,  1.16413547,\n",
            "        0.6542397 ,  0.42333932,  0.31434385,  0.02820222,  1.0773187 ,\n",
            "        0.79089949,  0.15577892,  0.84981266,  1.3128234 ,  1.1165934 ,\n",
            "       -0.        , -0.        ,  1.04582781,  1.60256644,  0.26654719,\n",
            "        0.26679678,  0.97262759,  1.43107083,  1.64582375,  1.67790531,\n",
            "        0.99508992,  0.90962077,  0.00984586,  0.8653203 ,  0.80202051,\n",
            "        0.86433354,  0.39980969,  0.8813444 , -0.02106053,  1.18231174,\n",
            "        0.82217609,  1.88873767,  0.80048844,  0.47692613,  1.32843376,\n",
            "        1.10758176,  1.49995594,  0.73985897,  1.19470608,  0.5992737 ,\n",
            "        1.70091427,  1.13811196,  0.06358087,  0.78453585,  0.82044895,\n",
            "        1.49144679,  1.6043965 ,  0.13125558,  0.90053883,  1.62672047,\n",
            "        0.58741001,  0.75981186,  0.78523022,  1.12052715, -0.        ,\n",
            "       -0.14988707, -0.05150279,  1.43481625,  0.69832712,  0.8156878 ,\n",
            "        0.60252815,  1.28005848,  0.4350808 ,  1.552268  ,  1.03491802,\n",
            "        0.89808531,  1.85124642,  0.59028059,  0.77710809,  0.86751626,\n",
            "       -0.02528277,  0.606901  ,  1.20459406,  0.66986269,  1.52210668,\n",
            "        0.38909504,  0.87064667,  0.15900369,  0.94325677,  0.8919104 ,\n",
            "        1.12859587,  1.54637885,  0.08777425,  0.83239285,  1.13635144,\n",
            "       -0.17987658,  0.22959078,  0.42389113,  0.77495998,  0.43955635,\n",
            "        0.        ,  1.44448526,  0.89793324,  0.93119066,  1.57543081,\n",
            "        1.42384989,  0.75441575,  1.1773277 ,  0.84690209,  1.19683477,\n",
            "        0.39206778,  1.79352615,  0.49495104,  0.        ,  0.48476939,\n",
            "        0.03375395,  0.90325524,  1.11770405,  0.26967273,  1.66302316,\n",
            "        0.4018032 ,  0.18689959, -0.05577039, -0.03632564,  1.84795613,\n",
            "        0.91779397,  1.61723546,  0.92915885,  0.05386997,  0.42995136,\n",
            "        1.09158731,  0.21289188,  1.12987084,  0.7876267 ,  0.11165286,\n",
            "        1.52269839,  0.89047726,  0.80866274,  0.25677687,  2.01407168,\n",
            "        0.47331724,  1.87670963,  0.54046961,  1.12472428,  0.77200854,\n",
            "        0.97274965,  1.57307656,  0.74389865,  0.54946106,  1.36471016,\n",
            "        1.10312605,  2.07977439,  1.18363613,  1.4629388 ,  0.25343951,\n",
            "        2.05449526,  0.26796062,  0.70674369,  0.14892447,  0.92883605,\n",
            "        1.86014303,  0.61863804,  0.11234382,  0.23220668,  2.26997616,\n",
            "        1.20616231,  0.95962656,  1.70395487,  0.04305391,  1.76240581,\n",
            "        0.20687068,  1.56818191,  1.27621928,  1.44476214,  0.94767914,\n",
            "        0.51500105,  0.        ,  1.2026101 ,  1.15453038,  0.82651786,\n",
            "        1.4499342 ,  0.87146856,  1.02058719,  1.46418896,  0.00660619,\n",
            "        0.25078072,  1.05875725,  1.83278742,  0.26970309,  0.89206527,\n",
            "        1.22142933,  0.12857538,  1.00960839,  1.10327701,  0.26288825,\n",
            "        1.79592848, -0.23663645,  0.80509982,  0.74454699,  0.65682761,\n",
            "        1.13070976,  1.23637629,  0.6680264 ,  0.76928718,  1.34664491,\n",
            "        0.03650734,  1.2869905 ,  0.02865345,  0.32771409,  1.29081165,\n",
            "        1.43917145,  1.00478115,  0.50872841,  0.64572272,  0.58154662,\n",
            "        0.95821627,  0.33320285,  0.82797027,  0.9005794 ,  0.1001478 ,\n",
            "        0.85779902,  0.64929721,  0.42534232,  1.62039077,  1.47917155,\n",
            "        1.54260386,  0.66023184,  1.22825619,  0.35154471,  1.46051409,\n",
            "        0.51513617,  0.37843421,  0.27865156,  0.0859088 ,  0.76085654,\n",
            "        0.31664096,  0.10829707, -0.10081099,  0.17875917,  1.45275891,\n",
            "        1.17912363,  0.46973507,  0.        ,  0.        ,  0.53445928,\n",
            "        1.17309474,  0.20330069,  1.61772969,  0.94757158,  0.49486076,\n",
            "        0.15722577, -0.0430595 ,  0.52087883, -0.06254136,  1.03819291,\n",
            "        1.27144006,  1.12354659, -0.        ,  0.21079716,  0.83240486,\n",
            "        0.79377833,  1.31997886,  0.84175816,  1.1338595 ,  1.36983853,\n",
            "        0.42404285,  0.71810785,  0.79482873,  0.74224579,  2.07411473])]\n"
          ]
        }
      ]
    },
    {
      "cell_type": "code",
      "source": [
        "#Find the eliminated coefficients\n",
        "eliminated_by_lasso = np.where(out.coef_ == 0)[0]\n",
        "\n",
        "print(eliminated_by_lasso)\n"
      ],
      "metadata": {
        "id": "Jq5-gsk6e96L",
        "colab": {
          "base_uri": "https://localhost:8080/"
        },
        "outputId": "22000d43-2792-44b1-b019-bc4769129c68"
      },
      "execution_count": 99,
      "outputs": [
        {
          "output_type": "stream",
          "name": "stdout",
          "text": [
            "[ 14  16  23  24  35  37  38  45  59  60  86 106 117 118 128 129 240 241\n",
            " 284 320 333 396 462 463 477]\n"
          ]
        }
      ]
    },
    {
      "cell_type": "code",
      "source": [
        "#Linear Regression\n",
        "X = sm.add_constant(X)\n",
        "allPredictors_lm = sm.OLS(y,X).fit()\n",
        "#Find the coefficients that should be eleminated; p > 0.1\n",
        "eliminated_by_lm = np.where(allPredictors_lm.pvalues[1:] > 0.05)[0] #checking for greater than 0.05 because two-sided\n",
        "print(eliminated_by_lm)"
      ],
      "metadata": {
        "colab": {
          "base_uri": "https://localhost:8080/"
        },
        "id": "miuYVOOrLDNU",
        "outputId": "39dd26ac-9553-4e03-ac0c-cdb8193a2145"
      },
      "execution_count": 100,
      "outputs": [
        {
          "output_type": "stream",
          "name": "stdout",
          "text": [
            "[ 16  24  26  45 117 130 217 224 312 315 342 416 453 456 477 478]\n"
          ]
        }
      ]
    },
    {
      "cell_type": "markdown",
      "source": [
        "OLS"
      ],
      "metadata": {
        "id": "TSTi-FIZYT8N"
      }
    },
    {
      "cell_type": "code",
      "source": [
        "lasso_zeros = ' '.join([str(idx) for idx in eliminated_by_lasso])\n",
        "lm_zeros = ' '.join([str(idx) for idx in eliminated_by_lm])\n",
        "pd.DataFrame([lasso_zeros,lm_zeros], index = ['eliminated_by_Lasso','eliminated_by_lm']).to_csv('answer.csv')"
      ],
      "metadata": {
        "id": "LyW4VpXgLSye"
      },
      "execution_count": 101,
      "outputs": []
    },
    {
      "cell_type": "code",
      "source": [
        "print(lasso_zeros)\n",
        "print(lm_zeros)"
      ],
      "metadata": {
        "colab": {
          "base_uri": "https://localhost:8080/"
        },
        "id": "fTmCtQylm7zp",
        "outputId": "3884b719-5d95-45fe-ca53-5f866bfaa4b4"
      },
      "execution_count": 102,
      "outputs": [
        {
          "output_type": "stream",
          "name": "stdout",
          "text": [
            "14 16 23 24 35 37 38 45 59 60 86 106 117 118 128 129 240 241 284 320 333 396 462 463 477\n",
            "16 24 26 45 117 130 217 224 312 315 342 416 453 456 477 478\n"
          ]
        }
      ]
    },
    {
      "cell_type": "code",
      "source": [
        "from google.colab import files\n",
        "\n",
        "#Download the file\n",
        "files.download('answer.csv')\n"
      ],
      "metadata": {
        "colab": {
          "base_uri": "https://localhost:8080/",
          "height": 17
        },
        "id": "SECaYmjILXRI",
        "outputId": "4a82eea3-6994-4339-e42e-edcbf3cb6b52"
      },
      "execution_count": 103,
      "outputs": [
        {
          "output_type": "display_data",
          "data": {
            "text/plain": [
              "<IPython.core.display.Javascript object>"
            ],
            "application/javascript": [
              "\n",
              "    async function download(id, filename, size) {\n",
              "      if (!google.colab.kernel.accessAllowed) {\n",
              "        return;\n",
              "      }\n",
              "      const div = document.createElement('div');\n",
              "      const label = document.createElement('label');\n",
              "      label.textContent = `Downloading \"${filename}\": `;\n",
              "      div.appendChild(label);\n",
              "      const progress = document.createElement('progress');\n",
              "      progress.max = size;\n",
              "      div.appendChild(progress);\n",
              "      document.body.appendChild(div);\n",
              "\n",
              "      const buffers = [];\n",
              "      let downloaded = 0;\n",
              "\n",
              "      const channel = await google.colab.kernel.comms.open(id);\n",
              "      // Send a message to notify the kernel that we're ready.\n",
              "      channel.send({})\n",
              "\n",
              "      for await (const message of channel.messages) {\n",
              "        // Send a message to notify the kernel that we're ready.\n",
              "        channel.send({})\n",
              "        if (message.buffers) {\n",
              "          for (const buffer of message.buffers) {\n",
              "            buffers.push(buffer);\n",
              "            downloaded += buffer.byteLength;\n",
              "            progress.value = downloaded;\n",
              "          }\n",
              "        }\n",
              "      }\n",
              "      const blob = new Blob(buffers, {type: 'application/binary'});\n",
              "      const a = document.createElement('a');\n",
              "      a.href = window.URL.createObjectURL(blob);\n",
              "      a.download = filename;\n",
              "      div.appendChild(a);\n",
              "      a.click();\n",
              "      div.remove();\n",
              "    }\n",
              "  "
            ]
          },
          "metadata": {}
        },
        {
          "output_type": "display_data",
          "data": {
            "text/plain": [
              "<IPython.core.display.Javascript object>"
            ],
            "application/javascript": [
              "download(\"download_3e17df71-7d55-4465-99cd-5afbf38e4f27\", \"answer.csv\", 189)"
            ]
          },
          "metadata": {}
        }
      ]
    }
  ]
}
